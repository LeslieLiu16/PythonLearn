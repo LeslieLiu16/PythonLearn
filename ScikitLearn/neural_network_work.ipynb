{
 "cells": [
  {
   "cell_type": "code",
   "execution_count": 1,
   "metadata": {},
   "outputs": [],
   "source": [
    "import numpy as np\n",
    "import pandas as pd\n",
    "import scipy.io as sio\n",
    "import matplotlib.pyplot as plt\n",
    "from sklearn.neural_network import MLPClassifier\n",
    "from sklearn.model_selection import train_test_split"
   ]
  },
  {
   "cell_type": "code",
   "execution_count": 2,
   "metadata": {},
   "outputs": [
    {
     "data": {
      "text/plain": [
       "dict_keys(['__header__', '__version__', '__globals__', 'X', 'y'])"
      ]
     },
     "execution_count": 2,
     "metadata": {},
     "output_type": "execute_result"
    }
   ],
   "source": [
    "data = sio.loadmat('./data/ex3data1.mat')\n",
    "data.keys()"
   ]
  },
  {
   "cell_type": "code",
   "execution_count": 3,
   "metadata": {},
   "outputs": [],
   "source": [
    "X,y = data['X'],data['y']"
   ]
  },
  {
   "cell_type": "code",
   "execution_count": 9,
   "metadata": {},
   "outputs": [],
   "source": [
    "x_train,x_test,y_train,y_test = train_test_split(X,y,test_size=0.05)"
   ]
  },
  {
   "cell_type": "code",
   "execution_count": 10,
   "metadata": {},
   "outputs": [],
   "source": [
    "model = MLPClassifier()"
   ]
  },
  {
   "cell_type": "code",
   "execution_count": 11,
   "metadata": {},
   "outputs": [
    {
     "data": {
      "text/plain": [
       "MLPClassifier()"
      ]
     },
     "execution_count": 11,
     "metadata": {},
     "output_type": "execute_result"
    }
   ],
   "source": [
    "model.fit(x_train,y_train.flatten())"
   ]
  },
  {
   "cell_type": "code",
   "execution_count": 12,
   "metadata": {},
   "outputs": [
    {
     "data": {
      "text/plain": [
       "0.972"
      ]
     },
     "execution_count": 12,
     "metadata": {},
     "output_type": "execute_result"
    }
   ],
   "source": [
    "model.score(x_test,y_test)"
   ]
  },
  {
   "cell_type": "code",
   "execution_count": 13,
   "metadata": {},
   "outputs": [
    {
     "data": {
      "text/plain": [
       "array([ 6, 10,  9,  8, 10,  1,  1,  3,  1,  8,  6,  3,  4,  6,  1,  1,  5,\n",
       "        3,  9,  1,  5,  9,  2,  4, 10,  9,  7,  6,  6, 10,  7,  8,  5, 10,\n",
       "       10,  8,  1, 10,  3,  3,  7,  4,  6,  3,  4,  2, 10,  2,  2,  9,  8,\n",
       "        4,  8,  6,  5, 10,  2,  2,  8,  3,  5,  5, 10,  4,  2,  1,  8,  1,\n",
       "       10,  7,  2,  9, 10,  4,  6,  6,  2,  2,  5,  5,  4,  1,  2,  1,  5,\n",
       "        6,  7,  7,  1,  4,  1,  9,  8,  2,  8, 10,  9,  7,  6,  5,  8,  9,\n",
       "        5, 10,  7,  9,  8,  6,  4,  4,  5,  9,  5,  9,  6,  9,  5,  9,  1,\n",
       "        3,  7,  2,  7,  3,  6,  6,  8, 10,  3,  3,  1, 10,  1,  5,  7,  7,\n",
       "        8,  9,  7,  5,  6, 10,  8, 10,  5, 10, 10,  2,  2,  2,  5,  9,  8,\n",
       "        5,  2,  9,  4,  1,  4, 10,  5,  1,  6,  9,  7,  5,  4, 10,  3,  9,\n",
       "        3, 10,  5, 10,  9, 10,  5, 10,  2,  3,  9,  5,  6,  8,  1,  3,  6,\n",
       "        5, 10, 10,  7,  7,  2,  6,  7, 10,  8,  4,  7,  3,  4,  1,  1,  9,\n",
       "        6,  1,  9, 10,  8,  3,  6,  1,  2,  7,  5,  7,  4,  9,  1,  4,  2,\n",
       "        8,  3,  6,  4,  3,  1,  5, 10,  7,  3, 10,  2,  9,  1,  4,  3, 10,\n",
       "        2,  2,  3, 10,  6,  5,  3,  9,  4,  2,  8,  3], dtype=uint8)"
      ]
     },
     "execution_count": 13,
     "metadata": {},
     "output_type": "execute_result"
    }
   ],
   "source": [
    "model.predict(x_test)"
   ]
  },
  {
   "cell_type": "code",
   "execution_count": null,
   "metadata": {},
   "outputs": [],
   "source": []
  }
 ],
 "metadata": {
  "interpreter": {
   "hash": "ef86db225ef4b57818c73f0fa884905e1074d5e48664afc905169539875171e1"
  },
  "kernelspec": {
   "display_name": "Python 3.8.12 64-bit ('Data_Analysis': conda)",
   "language": "python",
   "name": "python3"
  },
  "language_info": {
   "codemirror_mode": {
    "name": "ipython",
    "version": 3
   },
   "file_extension": ".py",
   "mimetype": "text/x-python",
   "name": "python",
   "nbconvert_exporter": "python",
   "pygments_lexer": "ipython3",
   "version": "3.8.12"
  },
  "orig_nbformat": 4
 },
 "nbformat": 4,
 "nbformat_minor": 2
}
