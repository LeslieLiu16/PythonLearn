{
 "cells": [
  {
   "cell_type": "code",
   "execution_count": 1,
   "metadata": {},
   "outputs": [],
   "source": [
    "import numpy as np\n",
    "import pandas as pd\n",
    "import matplotlib.pyplot as plt\n",
    "import seaborn as sns"
   ]
  },
  {
   "cell_type": "code",
   "execution_count": 2,
   "metadata": {},
   "outputs": [
    {
     "data": {
      "text/html": [
       "<div>\n",
       "<style scoped>\n",
       "    .dataframe tbody tr th:only-of-type {\n",
       "        vertical-align: middle;\n",
       "    }\n",
       "\n",
       "    .dataframe tbody tr th {\n",
       "        vertical-align: top;\n",
       "    }\n",
       "\n",
       "    .dataframe thead th {\n",
       "        text-align: right;\n",
       "    }\n",
       "</style>\n",
       "<table border=\"1\" class=\"dataframe\">\n",
       "  <thead>\n",
       "    <tr style=\"text-align: right;\">\n",
       "      <th></th>\n",
       "      <th>Exam1</th>\n",
       "      <th>Exam2</th>\n",
       "      <th>Accepted</th>\n",
       "    </tr>\n",
       "  </thead>\n",
       "  <tbody>\n",
       "    <tr>\n",
       "      <th>0</th>\n",
       "      <td>34.623660</td>\n",
       "      <td>78.024693</td>\n",
       "      <td>0</td>\n",
       "    </tr>\n",
       "    <tr>\n",
       "      <th>1</th>\n",
       "      <td>30.286711</td>\n",
       "      <td>43.894998</td>\n",
       "      <td>0</td>\n",
       "    </tr>\n",
       "    <tr>\n",
       "      <th>2</th>\n",
       "      <td>35.847409</td>\n",
       "      <td>72.902198</td>\n",
       "      <td>0</td>\n",
       "    </tr>\n",
       "    <tr>\n",
       "      <th>3</th>\n",
       "      <td>60.182599</td>\n",
       "      <td>86.308552</td>\n",
       "      <td>1</td>\n",
       "    </tr>\n",
       "    <tr>\n",
       "      <th>4</th>\n",
       "      <td>79.032736</td>\n",
       "      <td>75.344376</td>\n",
       "      <td>1</td>\n",
       "    </tr>\n",
       "  </tbody>\n",
       "</table>\n",
       "</div>"
      ],
      "text/plain": [
       "       Exam1      Exam2  Accepted\n",
       "0  34.623660  78.024693         0\n",
       "1  30.286711  43.894998         0\n",
       "2  35.847409  72.902198         0\n",
       "3  60.182599  86.308552         1\n",
       "4  79.032736  75.344376         1"
      ]
     },
     "execution_count": 2,
     "metadata": {},
     "output_type": "execute_result"
    }
   ],
   "source": [
    "data = pd.read_csv('./data/ex2data1.txt',names=['Exam1','Exam2','Accepted'])\n",
    "data.head()"
   ]
  },
  {
   "cell_type": "code",
   "execution_count": 5,
   "metadata": {},
   "outputs": [
    {
     "data": {
      "image/png": "[encoded data removed]",
      "text/plain": [
       "<Figure size 432x288 with 1 Axes>"
      ]
     },
     "metadata": {
      "needs_background": "light"
     },
     "output_type": "display_data"
    }
   ],
   "source": [
    "fig,ax = plt.subplots()\n",
    "\n",
    "ax.scatter(data[data['Accepted']==0]['Exam1'],data[data['Accepted']==0]['Exam2'],c = 'r',marker = 'x',label = 'y=0')\n",
    "ax.scatter(data[data['Accepted']==1]['Exam1'],data[data['Accepted']==1]['Exam2'],c = 'b',marker = 'o',label = 'y=1')\n",
    "ax.legend()\n",
    "ax.set(xlabel='Exam1',ylabel='Exam2')\n",
    "plt.show()"
   ]
  },
  {
   "cell_type": "code",
   "execution_count": 6,
   "metadata": {},
   "outputs": [],
   "source": [
    "def get_Xy(data):\n",
    "    data.insert(0,'Ones',1)\n",
    "    X = data.iloc[:,0:-1]\n",
    "    y = data.iloc[:,-1]\n",
    "    X,y = X.values,y.values.reshape(-1,1)\n",
    "    return X,y"
   ]
  },
  {
   "cell_type": "code",
   "execution_count": 7,
   "metadata": {},
   "outputs": [],
   "source": [
    "X,y = get_Xy(data)"
   ]
  },
  {
   "cell_type": "code",
   "execution_count": 8,
   "metadata": {},
   "outputs": [
    {
     "data": {
      "text/plain": [
       "(100, 3)"
      ]
     },
     "execution_count": 8,
     "metadata": {},
     "output_type": "execute_result"
    }
   ],
   "source": [
    "X.shape"
   ]
  },
  {
   "cell_type": "markdown",
   "metadata": {},
   "source": [
    "定义损失函数"
   ]
  },
  {
   "cell_type": "code",
   "execution_count": 9,
   "metadata": {},
   "outputs": [],
   "source": [
    "def sigmoid(z):\n",
    "    return 1/(1+np.exp(-z))   "
   ]
  },
  {
   "cell_type": "code",
   "execution_count": 10,
   "metadata": {},
   "outputs": [],
   "source": [
    "def costFunction(X,y,theta):\n",
    "    A = sigmoid(X @ theta)\n",
    "    first = y * np.log(A)\n",
    "    second = (1-y) * np.log( 1 - A)\n",
    "    return -np.sum(first+second)/len(X)"
   ]
  },
  {
   "cell_type": "code",
   "execution_count": 11,
   "metadata": {},
   "outputs": [
    {
     "data": {
      "text/plain": [
       "(3, 1)"
      ]
     },
     "execution_count": 11,
     "metadata": {},
     "output_type": "execute_result"
    }
   ],
   "source": [
    "theta = np.zeros((3,1))\n",
    "theta.shape"
   ]
  },
  {
   "cell_type": "code",
   "execution_count": 12,
   "metadata": {},
   "outputs": [
    {
     "data": {
      "text/plain": [
       "0.6931471805599453"
      ]
     },
     "execution_count": 12,
     "metadata": {},
     "output_type": "execute_result"
    }
   ],
   "source": [
    "cost_init = costFunction(X,y,theta)\n",
    "cost_init"
   ]
  },
  {
   "cell_type": "code",
   "execution_count": 39,
   "metadata": {},
   "outputs": [],
   "source": [
    "def gradientDescent(X,y,theta,alpha,iters):\n",
    "    costs = []\n",
    "    \n",
    "    for i in range(iters):\n",
    "        A = sigmoid(X@theta)\n",
    "        theta = theta-(alpha/len(X))*X.T@(A-y)\n",
    "        cost = costFunction(X,y,theta)\n",
    "        costs.append(cost)\n",
    "        if i % 1000 == 0:\n",
    "            print(cost)\n",
    "    return theta,costs"
   ]
  },
  {
   "cell_type": "code",
   "execution_count": 44,
   "metadata": {},
   "outputs": [],
   "source": [
    "alpha = 0.004\n",
    "iters = 200000"
   ]
  },
  {
   "cell_type": "code",
   "execution_count": 46,
   "metadata": {},
   "outputs": [
    {
     "name": "stdout",
     "output_type": "stream",
     "text": [
      "0.2167146439648072\n",
      "0.21609548952461455\n",
      "0.21549463305319677\n",
      "0.21491151319994534\n",
      "0.21434558729229225\n",
      "0.2137963309652945\n",
      "0.2132632378269398\n",
      "0.21274581917037177\n",
      "0.2122436037462512\n",
      "0.21175613761254158\n",
      "0.21128298408370658\n",
      "0.21082372380858977\n",
      "0.21037795501608197\n",
      "0.2099452939821584\n",
      "0.20952537579204372\n",
      "0.2091178555008522\n",
      "0.20872240983931659\n",
      "0.20833873967459893\n",
      "0.2079665735318186\n",
      "0.20760567262544466\n",
      "0.20725583806920791\n",
      "0.20691692127076583\n",
      "0.20658883904016187\n",
      "0.20627159575011242\n",
      "0.20596531612840688\n",
      "0.20567029412004328\n",
      "0.2053870658665802\n",
      "0.20511651799125286\n",
      "0.20486004450987091\n",
      "0.20461976141704852\n",
      "0.20439876260626857\n",
      "0.204201322744786\n",
      "0.2040327808873977\n",
      "0.203898606630994\n",
      "0.2038022033885985\n",
      "0.20374205416673255\n",
      "0.2037106367253714\n",
      "0.2036971945843636\n",
      "0.20369239994237653\n",
      "0.2036907796741413\n",
      "0.2036900528793068\n",
      "0.20368952127971096\n",
      "0.20368902384120982\n",
      "0.20368853208339988\n",
      "0.20368804209381913\n",
      "0.20368755344889164\n",
      "0.20368706610943796\n",
      "0.20368658006941914\n",
      "0.20368609532505444\n",
      "0.2036856118726946\n",
      "0.20368512970870611\n",
      "0.20368464882946713\n",
      "0.20368416923136634\n",
      "0.20368369091080363\n",
      "0.20368321386418964\n",
      "0.2036827380879458\n",
      "0.20368226357850425\n",
      "0.20368179033230832\n",
      "0.2036813183458116\n",
      "0.20368084761547847\n",
      "0.20368037813778425\n",
      "0.20367990990921464\n",
      "0.20367944292626583\n",
      "0.20367897718544475\n",
      "0.20367851268326895\n",
      "0.20367804941626627\n",
      "0.20367758738097488\n",
      "0.20367712657394374\n",
      "0.20367666699173195\n",
      "0.20367620863090885\n",
      "0.20367575148805434\n",
      "0.2036752955597585\n",
      "0.2036748408426215\n",
      "0.2036743873332542\n",
      "0.20367393502827688\n",
      "0.20367348392432064\n",
      "0.20367303401802644\n",
      "0.2036725853060452\n",
      "0.20367213778503818\n",
      "0.20367169145167632\n",
      "0.20367124630264066\n",
      "0.20367080233462243\n",
      "0.20367035954432233\n",
      "0.20366991792845135\n",
      "0.20366947748373004\n",
      "0.20366903820688884\n",
      "0.2036686000946682\n",
      "0.20366816314381794\n",
      "0.20366772735109792\n",
      "0.20366729271327763\n",
      "0.20366685922713595\n",
      "0.20366642688946168\n",
      "0.20366599569705318\n",
      "0.20366556564671828\n",
      "0.20366513673527425\n",
      "0.2036647089595483\n",
      "0.2036642823163766\n",
      "0.20366385680260485\n",
      "0.20366343241508847\n",
      "0.20366300915069194\n",
      "0.20366258700628923\n",
      "0.20366216597876377\n",
      "0.20366174606500784\n",
      "0.20366132726192337\n",
      "0.20366090956642138\n",
      "0.20366049297542207\n",
      "0.20366007748585482\n",
      "0.20365966309465824\n",
      "0.20365924979877995\n",
      "0.20365883759517664\n",
      "0.20365842648081403\n",
      "0.20365801645266693\n",
      "0.20365760750771922\n",
      "0.2036571996429634\n",
      "0.20365679285540125\n",
      "0.20365638714204348\n",
      "0.20365598249990932\n",
      "0.20365557892602715\n",
      "0.20365517641743414\n",
      "0.20365477497117596\n",
      "0.20365437458430743\n",
      "0.20365397525389192\n",
      "0.20365357697700145\n",
      "0.2036531797507169\n",
      "0.20365278357212752\n",
      "0.2036523884383314\n",
      "0.2036519943464353\n",
      "0.20365160129355417\n",
      "0.2036512092768118\n",
      "0.20365081829334034\n",
      "0.20365042834028074\n",
      "0.20365003941478188\n",
      "0.20364965151400155\n",
      "0.20364926463510574\n",
      "0.2036488787752686\n",
      "0.20364849393167306\n",
      "0.20364811010151002\n",
      "0.20364772728197875\n",
      "0.203647345470287\n",
      "0.20364696466365043\n",
      "0.20364658485929318\n",
      "0.20364620605444736\n",
      "0.20364582824635347\n",
      "0.20364545143225996\n",
      "0.20364507560942346\n",
      "0.20364470077510866\n",
      "0.20364432692658835\n",
      "0.2036439540611433\n",
      "0.20364358217606215\n",
      "0.20364321126864202\n",
      "0.20364284133618743\n",
      "0.20364247237601088\n",
      "0.2036421043854332\n",
      "0.2036417373617826\n",
      "0.20364137130239562\n",
      "0.2036410062046162\n",
      "0.20364064206579616\n",
      "0.20364027888329544\n",
      "0.2036399166544812\n",
      "0.20363955537672887\n",
      "0.20363919504742117\n",
      "0.20363883566394872\n",
      "0.20363847722370962\n",
      "0.20363811972410986\n",
      "0.20363776316256288\n",
      "0.20363740753648948\n",
      "0.20363705284331846\n",
      "0.20363669908048582\n",
      "0.20363634624543533\n",
      "0.20363599433561785\n",
      "0.20363564334849218\n",
      "0.20363529328152422\n",
      "0.2036349441321874\n",
      "0.20363459589796257\n",
      "0.20363424857633772\n",
      "0.2036339021648087\n",
      "0.20363355666087807\n",
      "0.2036332120620561\n",
      "0.20363286836586025\n",
      "0.20363252556981504\n",
      "0.20363218367145242\n",
      "0.20363184266831147\n",
      "0.2036315025579386\n",
      "0.20363116333788706\n",
      "0.20363082500571753\n",
      "0.20363048755899787\n",
      "0.20363015099530235\n",
      "0.2036298153122134\n",
      "0.20362948050731952\n",
      "0.20362914657821687\n",
      "0.2036288135225083\n",
      "0.20362848133780367\n",
      "0.20362815002171997\n",
      "0.2036278195718808\n",
      "0.203627489985917\n",
      "0.2036271612614663\n",
      "0.203626833396173\n",
      "0.20362650638768856\n",
      "0.20362618023367102\n",
      "0.2036258549317853\n"
     ]
    }
   ],
   "source": [
    "theta_final,costs = gradientDescent(X,y,theta,alpha,iters)"
   ]
  },
  {
   "cell_type": "code",
   "execution_count": 47,
   "metadata": {},
   "outputs": [
    {
     "data": {
      "text/plain": [
       "array([[-24.24872778],\n",
       "       [  0.19893299],\n",
       "       [  0.19408651]])"
      ]
     },
     "execution_count": 47,
     "metadata": {},
     "output_type": "execute_result"
    }
   ],
   "source": [
    "theta_final"
   ]
  },
  {
   "cell_type": "code",
   "execution_count": 48,
   "metadata": {},
   "outputs": [],
   "source": [
    "def predict(X,theta):\n",
    "    prob = sigmoid(X@theta)\n",
    "    return [1 if x >=0.5 else 0 for x in prob]"
   ]
  },
  {
   "cell_type": "code",
   "execution_count": 49,
   "metadata": {},
   "outputs": [
    {
     "name": "stdout",
     "output_type": "stream",
     "text": [
      "0.89\n"
     ]
    }
   ],
   "source": [
    "y_ = np.array(predict(X,theta_final))\n",
    "y_pre = y_.reshape(len(y_),1)\n",
    "\n",
    "acc = np.mean(y_pre==y)\n",
    "print(acc)"
   ]
  },
  {
   "cell_type": "code",
   "execution_count": 50,
   "metadata": {},
   "outputs": [],
   "source": [
    "coef1 = -theta_final[0,0]/theta_final[2,0]\n",
    "coef2 = -theta_final[1,0]/theta_final[2,0]"
   ]
  },
  {
   "cell_type": "code",
   "execution_count": 51,
   "metadata": {},
   "outputs": [
    {
     "data": {
      "image/png": "[encoded data removed]",
      "text/plain": [
       "<Figure size 432x288 with 1 Axes>"
      ]
     },
     "metadata": {
      "needs_background": "light"
     },
     "output_type": "display_data"
    }
   ],
   "source": [
    "x = np.linspace(20,100,100)\n",
    "f = coef1 + coef2 * x\n",
    "\n",
    "fig,ax = plt.subplots()\n",
    "ax.scatter(data[data['Accepted']==0]['Exam1'],data[data['Accepted']==0]['Exam2'],c = 'r',marker = 'x',label = 'y=0')\n",
    "ax.scatter(data[data['Accepted']==1]['Exam1'],data[data['Accepted']==1]['Exam2'],c = 'b',marker = 'o',label = 'y=1')\n",
    "ax.legend()\n",
    "ax.set(xlabel='Exam1',ylabel='Exam2')\n",
    "\n",
    "ax.plot(x,f,c='g')\n",
    "plt.show()"
   ]
  },
  {
   "cell_type": "code",
   "execution_count": null,
   "metadata": {},
   "outputs": [],
   "source": []
  }
 ],
 "metadata": {
  "interpreter": {
   "hash": "ef86db225ef4b57818c73f0fa884905e1074d5e48664afc905169539875171e1"
  },
  "kernelspec": {
   "display_name": "Python 3.8.12 64-bit ('Data_Analysis': conda)",
   "language": "python",
   "name": "python3"
  },
  "language_info": {
   "codemirror_mode": {
    "name": "ipython",
    "version": 3
   },
   "file_extension": ".py",
   "mimetype": "text/x-python",
   "name": "python",
   "nbconvert_exporter": "python",
   "pygments_lexer": "ipython3",
   "version": "3.8.12"
  },
  "orig_nbformat": 4
 },
 "nbformat": 4,
 "nbformat_minor": 2
}
