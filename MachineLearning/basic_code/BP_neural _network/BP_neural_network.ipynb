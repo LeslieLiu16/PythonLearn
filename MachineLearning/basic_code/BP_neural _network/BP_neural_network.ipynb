{
 "cells": [
  {
   "cell_type": "code",
   "execution_count": 79,
   "metadata": {},
   "outputs": [],
   "source": [
    "import numpy as np\n",
    "import scipy.io as sio\n",
    "import matplotlib.pyplot as plt\n",
    "from scipy.optimize import minimize"
   ]
  },
  {
   "cell_type": "code",
   "execution_count": 80,
   "metadata": {},
   "outputs": [],
   "source": [
    "data = sio.loadmat('ex4data1.mat')\n",
    "raw_X = data['X']\n",
    "raw_y = data['y']"
   ]
  },
  {
   "cell_type": "code",
   "execution_count": 81,
   "metadata": {},
   "outputs": [
    {
     "data": {
      "text/plain": [
       "(5000, 401)"
      ]
     },
     "execution_count": 81,
     "metadata": {},
     "output_type": "execute_result"
    }
   ],
   "source": [
    "X = np.insert(raw_X,0,values=1,axis=1)\n",
    "X.shape"
   ]
  },
  {
   "cell_type": "markdown",
   "metadata": {},
   "source": [
    "one-hot coding"
   ]
  },
  {
   "cell_type": "code",
   "execution_count": 82,
   "metadata": {},
   "outputs": [],
   "source": [
    "def one_hot_encoder(raw_y):\n",
    "    result = []\n",
    "\n",
    "    for i in raw_y:\n",
    "        y_temp = np.zeros(10)\n",
    "        y_temp[i-1] = 1\n",
    "\n",
    "        result.append(y_temp)\n",
    "\n",
    "    return np.array(result)"
   ]
  },
  {
   "cell_type": "code",
   "execution_count": 83,
   "metadata": {},
   "outputs": [
    {
     "data": {
      "text/plain": [
       "array([[0., 0., 0., ..., 0., 0., 1.],\n",
       "       [0., 0., 0., ..., 0., 0., 1.],\n",
       "       [0., 0., 0., ..., 0., 0., 1.],\n",
       "       ...,\n",
       "       [0., 0., 0., ..., 0., 1., 0.],\n",
       "       [0., 0., 0., ..., 0., 1., 0.],\n",
       "       [0., 0., 0., ..., 0., 1., 0.]])"
      ]
     },
     "execution_count": 83,
     "metadata": {},
     "output_type": "execute_result"
    }
   ],
   "source": [
    "y = one_hot_encoder(raw_y=raw_y)\n",
    "y"
   ]
  },
  {
   "cell_type": "code",
   "execution_count": 84,
   "metadata": {},
   "outputs": [
    {
     "data": {
      "text/plain": [
       "(5000, 10)"
      ]
     },
     "execution_count": 84,
     "metadata": {},
     "output_type": "execute_result"
    }
   ],
   "source": [
    "y.shape"
   ]
  },
  {
   "cell_type": "code",
   "execution_count": 85,
   "metadata": {},
   "outputs": [
    {
     "data": {
      "text/plain": [
       "((25, 401), (10, 26))"
      ]
     },
     "execution_count": 85,
     "metadata": {},
     "output_type": "execute_result"
    }
   ],
   "source": [
    "theta = sio.loadmat('ex4weights.mat')\n",
    "\n",
    "theta1,theta2 = theta['Theta1'],theta['Theta2']\n",
    "theta1.shape,theta2.shape"
   ]
  },
  {
   "cell_type": "markdown",
   "metadata": {},
   "source": [
    "序列化权重参数"
   ]
  },
  {
   "cell_type": "code",
   "execution_count": 86,
   "metadata": {},
   "outputs": [],
   "source": [
    "def serialize(a,b):\n",
    "    return np.append(a.flatten(),b.flatten())"
   ]
  },
  {
   "cell_type": "code",
   "execution_count": 87,
   "metadata": {},
   "outputs": [
    {
     "data": {
      "text/plain": [
       "(10285,)"
      ]
     },
     "execution_count": 87,
     "metadata": {},
     "output_type": "execute_result"
    }
   ],
   "source": [
    "theta_serialize = serialize(theta1,theta2)\n",
    "theta_serialize.shape"
   ]
  },
  {
   "cell_type": "markdown",
   "metadata": {},
   "source": [
    "解序列化参数"
   ]
  },
  {
   "cell_type": "code",
   "execution_count": 88,
   "metadata": {},
   "outputs": [],
   "source": [
    "def deserialize(theta_serialize):\n",
    "    theta1 = theta_serialize[:25*401].reshape(25,401)\n",
    "    theta2 = theta_serialize[25*401:].reshape(10,26)\n",
    "    return theta1,theta2"
   ]
  },
  {
   "cell_type": "code",
   "execution_count": 89,
   "metadata": {},
   "outputs": [],
   "source": [
    "theta1,theta2 = deserialize(theta_serialize)"
   ]
  },
  {
   "cell_type": "code",
   "execution_count": 90,
   "metadata": {},
   "outputs": [
    {
     "data": {
      "text/plain": [
       "((25, 401), (10, 26))"
      ]
     },
     "execution_count": 90,
     "metadata": {},
     "output_type": "execute_result"
    }
   ],
   "source": [
    "theta1.shape,theta2.shape"
   ]
  },
  {
   "cell_type": "markdown",
   "metadata": {},
   "source": [
    "前向传播"
   ]
  },
  {
   "cell_type": "code",
   "execution_count": 91,
   "metadata": {},
   "outputs": [],
   "source": [
    "def sigmiod(z):\n",
    "    return 1/(1+np.exp(-z))"
   ]
  },
  {
   "cell_type": "code",
   "execution_count": 92,
   "metadata": {},
   "outputs": [],
   "source": [
    "def feed_forward(theta_serialize,X):\n",
    "    theta1,theta2 = deserialize(theta_serialize)\n",
    "    a1 = X\n",
    "    z2 = a1 @ theta1.T\n",
    "    a2 = sigmiod(z2)\n",
    "    a2 = np.insert(a2,0,values=1,axis=1)\n",
    "    z3 = a2 @ theta2.T\n",
    "    h = sigmiod(z3)\n",
    "    return a1,z2,a2,z3,h"
   ]
  },
  {
   "cell_type": "markdown",
   "metadata": {},
   "source": [
    "损失函数"
   ]
  },
  {
   "cell_type": "markdown",
   "metadata": {},
   "source": [
    "不带正则化"
   ]
  },
  {
   "cell_type": "code",
   "execution_count": 93,
   "metadata": {},
   "outputs": [],
   "source": [
    "def cost(theta_serialize,X,y):\n",
    "    a1,z2,a2,z3,h = feed_forward(theta_serialize,X)\n",
    "    J = -np.sum(y*np.log(h)+(1-y)*np.log(1-h))/len(X)\n",
    "    return J"
   ]
  },
  {
   "cell_type": "code",
   "execution_count": 94,
   "metadata": {},
   "outputs": [
    {
     "data": {
      "text/plain": [
       "0.2876291651613189"
      ]
     },
     "execution_count": 94,
     "metadata": {},
     "output_type": "execute_result"
    }
   ],
   "source": [
    "cost(theta_serialize,X,y)"
   ]
  },
  {
   "cell_type": "markdown",
   "metadata": {},
   "source": [
    "带正则化"
   ]
  },
  {
   "cell_type": "code",
   "execution_count": 95,
   "metadata": {},
   "outputs": [],
   "source": [
    "def reg_costtheta(theta_serialize,X,y,lamda):\n",
    "    sum1 = np.sum(np.power(theta1[:,1:],2))\n",
    "    sum2 = np.sum(np.power(theta2[:,1:],2))\n",
    "    reg = (sum1+sum2)*lamda/(2*len(X))\n",
    "    return reg + cost(theta_serialize,X,y)"
   ]
  },
  {
   "cell_type": "code",
   "execution_count": 96,
   "metadata": {},
   "outputs": [
    {
     "data": {
      "text/plain": [
       "0.38376985909092365"
      ]
     },
     "execution_count": 96,
     "metadata": {},
     "output_type": "execute_result"
    }
   ],
   "source": [
    "lamda = 1\n",
    "reg_costtheta(theta_serialize,X,y,lamda)"
   ]
  },
  {
   "cell_type": "code",
   "execution_count": 97,
   "metadata": {},
   "outputs": [],
   "source": [
    "def sigmoid_gradient(z):\n",
    "    return sigmiod(z)*(1-sigmiod(z))"
   ]
  },
  {
   "cell_type": "code",
   "execution_count": 98,
   "metadata": {},
   "outputs": [],
   "source": [
    "def gradient(theta_serialize,X,y):\n",
    "    theta1,theta2 = deserialize(theta_serialize)\n",
    "    a1,z2,a2,z3,h = feed_forward(theta_serialize,X)\n",
    "    d3 = h-y\n",
    "    d2 = d3@ theta2[:,1:]*sigmoid_gradient(z2)\n",
    "    D2 = (d3.T@a2)/len(X)\n",
    "    D1 = (d2.T@a1)/len(X)\n",
    "    return serialize(D1,D2)"
   ]
  },
  {
   "cell_type": "markdown",
   "metadata": {},
   "source": [
    "带正则化的梯度"
   ]
  },
  {
   "cell_type": "code",
   "execution_count": 99,
   "metadata": {},
   "outputs": [],
   "source": [
    "def reg_gradient(theta_serialize,X,y,lamda):\n",
    "    D = gradient(theta_serialize,X,y)\n",
    "    D1,D2 = deserialize(D)\n",
    "\n",
    "    theta1,theta2 = deserialize(theta_serialize)\n",
    "    D1[:,1:] = D1[:,1:]+theta1[:,1:]*lamda/len(X)\n",
    "    D2[:,1:] = D2[:,1:]+theta2[:,1:]*lamda/len(X)\n",
    "    return serialize(D1,D2)"
   ]
  },
  {
   "cell_type": "markdown",
   "metadata": {},
   "source": [
    "神经网络的优化"
   ]
  },
  {
   "cell_type": "code",
   "execution_count": 100,
   "metadata": {},
   "outputs": [],
   "source": [
    "from scipy.optimize import minimize"
   ]
  },
  {
   "cell_type": "code",
   "execution_count": 101,
   "metadata": {},
   "outputs": [],
   "source": [
    "def nn_training(X,y):\n",
    "\n",
    "    init_theta = np.random.uniform(-0.5,0.5,10285)\n",
    "    res = minimize(fun = cost,\n",
    "    x0=init_theta,\n",
    "    args=(X,y),\n",
    "    method='TNC',\n",
    "    jac=gradient,\n",
    "    options = {'maxiter':300})\n",
    "    return res"
   ]
  },
  {
   "cell_type": "code",
   "execution_count": 102,
   "metadata": {},
   "outputs": [
    {
     "name": "stderr",
     "output_type": "stream",
     "text": [
      "C:\\Users\\ADMINI~1\\AppData\\Local\\Temp/ipykernel_13900/3445909722.py:3: RuntimeWarning: divide by zero encountered in log\n",
      "  J = -np.sum(y*np.log(h)+(1-y)*np.log(1-h))/len(X)\n",
      "C:\\Users\\ADMINI~1\\AppData\\Local\\Temp/ipykernel_13900/3445909722.py:3: RuntimeWarning: invalid value encountered in multiply\n",
      "  J = -np.sum(y*np.log(h)+(1-y)*np.log(1-h))/len(X)\n"
     ]
    }
   ],
   "source": [
    "res = nn_training(X,y)"
   ]
  },
  {
   "cell_type": "code",
   "execution_count": 104,
   "metadata": {},
   "outputs": [],
   "source": [
    "raw_y = data['y'].reshape(5000,)"
   ]
  },
  {
   "cell_type": "code",
   "execution_count": 107,
   "metadata": {},
   "outputs": [
    {
     "data": {
      "text/plain": [
       "1.0"
      ]
     },
     "execution_count": 107,
     "metadata": {},
     "output_type": "execute_result"
    }
   ],
   "source": [
    "_,_,_,_,h = feed_forward(res.x,X)\n",
    "y_pred = np.argmax(h,axis=1)+1\n",
    "acc = np.mean(y_pred == raw_y)\n",
    "acc"
   ]
  },
  {
   "cell_type": "markdown",
   "metadata": {},
   "source": [
    "可视化隐藏层"
   ]
  },
  {
   "cell_type": "code",
   "execution_count": 112,
   "metadata": {},
   "outputs": [],
   "source": [
    "def plot_hidden_layer(theta):\n",
    "    theta1,_ = deserialize(theta)\n",
    "    hidden_layer = theta1[:,1:]\n",
    "\n",
    "    fig,ax = plt.subplots(ncols=5,nrows=5,figsize = (8,8),sharex=True,sharey=True)\n",
    "\n",
    "    for r in range(5):\n",
    "        for c in range(5):\n",
    "\n",
    "            ax[r,c].imshow(hidden_layer[5*r+c].reshape(20,20).T,cmap = 'gray_r')\n",
    "\n",
    "    plt.xticks([])\n",
    "    plt.yticks([])\n",
    "\n",
    "    plt.show()"
   ]
  },
  {
   "cell_type": "code",
   "execution_count": 113,
   "metadata": {},
   "outputs": [
    {
     "data": {
      "image/png": "[encoded data removed]",
      "text/plain": [
       "<Figure size 576x576 with 25 Axes>"
      ]
     },
     "metadata": {},
     "output_type": "display_data"
    }
   ],
   "source": [
    "plot_hidden_layer(res.x)"
   ]
  },
  {
   "cell_type": "code",
   "execution_count": null,
   "metadata": {},
   "outputs": [],
   "source": []
  }
 ],
 "metadata": {
  "interpreter": {
   "hash": "ef86db225ef4b57818c73f0fa884905e1074d5e48664afc905169539875171e1"
  },
  "kernelspec": {
   "display_name": "Python 3.8.12 64-bit ('Data_Analysis': conda)",
   "language": "python",
   "name": "python3"
  },
  "language_info": {
   "codemirror_mode": {
    "name": "ipython",
    "version": 3
   },
   "file_extension": ".py",
   "mimetype": "text/x-python",
   "name": "python",
   "nbconvert_exporter": "python",
   "pygments_lexer": "ipython3",
   "version": "3.8.12"
  },
  "orig_nbformat": 4
 },
 "nbformat": 4,
 "nbformat_minor": 2
}
