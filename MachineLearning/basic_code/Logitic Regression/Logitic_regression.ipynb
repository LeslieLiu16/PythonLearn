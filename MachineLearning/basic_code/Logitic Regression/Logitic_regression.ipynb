{
 "cells": [
  {
   "cell_type": "code",
   "execution_count": 28,
   "metadata": {
    "collapsed": true
   },
   "outputs": [],
   "source": [
    "import numpy as np\n",
    "import pandas as pd\n",
    "import matplotlib.pyplot as plt"
   ]
  },
  {
   "cell_type": "code",
   "execution_count": 29,
   "outputs": [
    {
     "data": {
      "text/plain": "       Exam1      Exam2  Accepted\n0  34.623660  78.024693         0\n1  30.286711  43.894998         0\n2  35.847409  72.902198         0\n3  60.182599  86.308552         1\n4  79.032736  75.344376         1",
      "text/html": "<div>\n<style scoped>\n    .dataframe tbody tr th:only-of-type {\n        vertical-align: middle;\n    }\n\n    .dataframe tbody tr th {\n        vertical-align: top;\n    }\n\n    .dataframe thead th {\n        text-align: right;\n    }\n</style>\n<table border=\"1\" class=\"dataframe\">\n  <thead>\n    <tr style=\"text-align: right;\">\n      <th></th>\n      <th>Exam1</th>\n      <th>Exam2</th>\n      <th>Accepted</th>\n    </tr>\n  </thead>\n  <tbody>\n    <tr>\n      <th>0</th>\n      <td>34.623660</td>\n      <td>78.024693</td>\n      <td>0</td>\n    </tr>\n    <tr>\n      <th>1</th>\n      <td>30.286711</td>\n      <td>43.894998</td>\n      <td>0</td>\n    </tr>\n    <tr>\n      <th>2</th>\n      <td>35.847409</td>\n      <td>72.902198</td>\n      <td>0</td>\n    </tr>\n    <tr>\n      <th>3</th>\n      <td>60.182599</td>\n      <td>86.308552</td>\n      <td>1</td>\n    </tr>\n    <tr>\n      <th>4</th>\n      <td>79.032736</td>\n      <td>75.344376</td>\n      <td>1</td>\n    </tr>\n  </tbody>\n</table>\n</div>"
     },
     "execution_count": 29,
     "metadata": {},
     "output_type": "execute_result"
    }
   ],
   "source": [
    "path = 'ex2data1.txt'\n",
    "data = pd.read_csv(path,names= ['Exam1','Exam2','Accepted'])\n",
    "data.head()"
   ],
   "metadata": {
    "collapsed": false,
    "pycharm": {
     "name": "#%%\n"
    }
   }
  },
  {
   "cell_type": "code",
   "execution_count": 30,
   "outputs": [
    {
     "data": {
      "text/plain": "<Figure size 432x288 with 1 Axes>",
      "image/png": "[encoded data removed]"
     },
     "metadata": {
      "needs_background": "light"
     },
     "output_type": "display_data"
    }
   ],
   "source": [
    "fig,ax = plt.subplots()\n",
    "\n",
    "ax.scatter(data[data['Accepted']==0]['Exam1'],data[data['Accepted']==0]['Exam2'],c = 'r',marker = 'x',label = 'y=0')\n",
    "ax.scatter(data[data['Accepted']==1]['Exam1'],data[data['Accepted']==1]['Exam2'],c = 'b',marker = 'o',label = 'y=1')\n",
    "ax.legend()\n",
    "ax.set(xlabel='Exam1',ylabel='Exam2')\n",
    "plt.show()"
   ],
   "metadata": {
    "collapsed": false,
    "pycharm": {
     "name": "#%%\n"
    }
   }
  },
  {
   "cell_type": "code",
   "execution_count": 31,
   "outputs": [],
   "source": [
    "def get_Xy(data):\n",
    "    data.insert(0,'ones',1)\n",
    "    X_ = data.iloc[:,0:-1]\n",
    "    X = X_.values\n",
    "\n",
    "    y_ = data.iloc[:,-1]\n",
    "    y = y_.values.reshape(len(y_),1)\n",
    "\n",
    "    return X,y"
   ],
   "metadata": {
    "collapsed": false,
    "pycharm": {
     "name": "#%%\n"
    }
   }
  },
  {
   "cell_type": "code",
   "execution_count": 32,
   "outputs": [
    {
     "data": {
      "text/plain": "(100, 3)"
     },
     "execution_count": 32,
     "metadata": {},
     "output_type": "execute_result"
    }
   ],
   "source": [
    "X,y = get_Xy(data)\n",
    "X.shape"
   ],
   "metadata": {
    "collapsed": false,
    "pycharm": {
     "name": "#%%\n"
    }
   }
  },
  {
   "cell_type": "code",
   "execution_count": 33,
   "outputs": [
    {
     "data": {
      "text/plain": "(100, 1)"
     },
     "execution_count": 33,
     "metadata": {},
     "output_type": "execute_result"
    }
   ],
   "source": [
    "y.shape"
   ],
   "metadata": {
    "collapsed": false,
    "pycharm": {
     "name": "#%%\n"
    }
   }
  },
  {
   "cell_type": "code",
   "execution_count": 34,
   "outputs": [],
   "source": [
    "# 损失函数"
   ],
   "metadata": {
    "collapsed": false,
    "pycharm": {
     "name": "#%%\n"
    }
   }
  },
  {
   "cell_type": "code",
   "execution_count": 35,
   "outputs": [],
   "source": [
    "def sigmiod(z):\n",
    "    return 1/(1+np.exp(-z))"
   ],
   "metadata": {
    "collapsed": false,
    "pycharm": {
     "name": "#%%\n"
    }
   }
  },
  {
   "cell_type": "code",
   "execution_count": 36,
   "outputs": [],
   "source": [
    "def costFunction(X,y,theta):\n",
    "    A = sigmiod(X@theta)\n",
    "    first = y*np.log(A)\n",
    "    second = (1-y)*np.log(1-A)\n",
    "    return -np.sum(first + second)/len(X)"
   ],
   "metadata": {
    "collapsed": false,
    "pycharm": {
     "name": "#%%\n"
    }
   }
  },
  {
   "cell_type": "code",
   "execution_count": 37,
   "outputs": [
    {
     "data": {
      "text/plain": "(3, 1)"
     },
     "execution_count": 37,
     "metadata": {},
     "output_type": "execute_result"
    }
   ],
   "source": [
    "theta = np.zeros((3,1))\n",
    "theta.shape"
   ],
   "metadata": {
    "collapsed": false,
    "pycharm": {
     "name": "#%%\n"
    }
   }
  },
  {
   "cell_type": "code",
   "execution_count": 38,
   "outputs": [
    {
     "data": {
      "text/plain": "0.6931471805599453"
     },
     "execution_count": 38,
     "metadata": {},
     "output_type": "execute_result"
    }
   ],
   "source": [
    "cost_init=costFunction(X,y,theta)\n",
    "cost_init"
   ],
   "metadata": {
    "collapsed": false,
    "pycharm": {
     "name": "#%%\n"
    }
   }
  },
  {
   "cell_type": "code",
   "execution_count": 47,
   "outputs": [],
   "source": [
    "def gradientDescent(X,y,theta,iters,alpha):\n",
    "    m = len(X)\n",
    "    costs = []\n",
    "\n",
    "    for i in range(iters):\n",
    "        A = sigmiod(X@theta)\n",
    "        theta = theta-(alpha/m)*X.T@(A-y)\n",
    "        cost = costFunction(X,y,theta)\n",
    "        costs.append(cost)\n",
    "        if i% 1000 ==0:\n",
    "            print(cost)\n",
    "    return costs,theta"
   ],
   "metadata": {
    "collapsed": false,
    "pycharm": {
     "name": "#%%\n"
    }
   }
  },
  {
   "cell_type": "code",
   "execution_count": 56,
   "outputs": [],
   "source": [
    "alpha = 0.004\n",
    "iters = 200000"
   ],
   "metadata": {
    "collapsed": false,
    "pycharm": {
     "name": "#%%\n"
    }
   }
  },
  {
   "cell_type": "code",
   "execution_count": 57,
   "outputs": [
    {
     "name": "stdout",
     "output_type": "stream",
     "text": [
      "1.9886538578930086\n",
      "3.078170019864155\n",
      "5.487009635362496\n",
      "1.851943366133263\n",
      "2.955128942408359\n",
      "5.438688730769618\n",
      "1.8046128090728515\n",
      "2.8312715776074038\n",
      "5.3886531633606145\n",
      "1.7561538117121538\n",
      "2.706676380747811\n",
      "5.3365673644957425\n",
      "1.706280704769481\n",
      "2.5818508519054273\n",
      "5.281774101800353\n",
      "1.6544129958512053\n",
      "2.457843094743578\n",
      "5.223255119969365\n",
      "1.599661209714555\n",
      "2.3362477519414626\n",
      "5.159653459570274\n",
      "1.5408871901849066\n",
      "2.2190492038468905\n",
      "5.089387088751128\n",
      "1.4768567851081462\n",
      "2.1082685090536497\n",
      "5.010845104587983\n",
      "1.406449363280585\n",
      "2.0054338903832694\n",
      "4.9225734611717336\n",
      "1.3288041261254446\n",
      "1.910964605489366\n",
      "4.823257484826611\n",
      "1.2432202250971687\n",
      "1.823586612152141\n",
      "4.711246821296763\n",
      "1.1486277932139555\n",
      "1.7397667362447995\n",
      "4.583257400457349\n",
      "1.0423478306006695\n",
      "1.6525865746034032\n",
      "4.430932868329269\n",
      "0.9166267386002187\n",
      "1.546533127655085\n",
      "4.224624720512681\n",
      "0.7330944584991134\n",
      "4.193748767678607\n",
      "3.8728007824436643\n",
      "1.1436004419410515\n",
      "0.6494926269781051\n",
      "0.6083915816023645\n",
      "0.27160267617962286\n",
      "1.0930701723826168\n",
      "0.33557661375589826\n",
      "0.2397392288230154\n",
      "1.9714086787189231\n",
      "1.6273195417741828\n",
      "0.9138640560873367\n",
      "0.9006968127689895\n",
      "1.9183275407644649\n",
      "1.0581816749367252\n",
      "1.1222480185154458\n",
      "0.6700978774224684\n",
      "0.23005644452671706\n",
      "0.23798030870156572\n",
      "0.9338733312947015\n",
      "0.9934736526457644\n",
      "0.9865129704919771\n",
      "0.36410542011553815\n",
      "1.0604097227416593\n",
      "0.3809277895041604\n",
      "0.2833734684083968\n",
      "2.3141453705503348\n",
      "0.2716131447954169\n",
      "1.4673898527551237\n",
      "0.5306942882072868\n",
      "0.4794537572062725\n",
      "1.5435291512876168\n",
      "1.160655929681985\n",
      "0.5018491329213126\n",
      "1.0080010225521583\n",
      "0.8591894646811008\n",
      "0.8399982873011512\n",
      "0.774781462965219\n",
      "0.7109407657720408\n",
      "0.7322718618624283\n",
      "0.7554652032252236\n",
      "0.7808820920353596\n",
      "0.8090254554988622\n",
      "0.8406214851461593\n",
      "0.8767919495143857\n",
      "0.9194482714608911\n",
      "0.972397929450208\n",
      "1.0457710942826528\n",
      "1.1743509199864322\n",
      "1.1813954002898275\n",
      "1.1653322625298577\n",
      "1.1493377494084351\n",
      "1.1334154017875462\n",
      "1.1175692689376402\n",
      "1.1018038691447503\n",
      "1.086124144449468\n",
      "1.0705354100564883\n",
      "1.0550432985940104\n",
      "1.039653699609189\n",
      "1.0243726949087617\n",
      "1.0092064905792022\n",
      "0.9941613467340114\n",
      "0.9792435062204166\n",
      "0.9644591236594658\n",
      "0.9498141962783596\n",
      "0.9353144980128245\n",
      "0.9209655183062904\n",
      "0.9067724069115863\n",
      "0.8927399258165548\n",
      "0.8788724091796809\n",
      "0.8651737318889329\n",
      "0.8516472870658746\n",
      "0.8382959725439857\n",
      "0.8251221860735175\n",
      "0.812127828757918\n",
      "0.7993143160209637\n",
      "0.786682595245468\n",
      "0.7742331691167944\n",
      "0.7619661236459782\n",
      "0.7498811598356826\n",
      "0.7379776279785518\n",
      "0.7262545636377813\n",
      "0.714710724442446\n",
      "0.7033446269304349\n",
      "0.6921545827797417\n",
      "0.6811387338808782\n",
      "0.6702950858117422\n",
      "0.6596215393792022\n",
      "0.649115919985869\n",
      "0.6387760046634816\n",
      "0.6285995466869883\n",
      "0.6185842977435949\n",
      "0.6087280276809234\n",
      "0.5990285418975902\n",
      "0.5894836964693559\n",
      "0.5800914111256289\n",
      "0.5708496802054625\n",
      "0.5617565817304144\n",
      "0.5528102847346611\n",
      "0.5440090549916907\n",
      "0.5353512592721958\n",
      "0.5268353682609033\n",
      "0.5184599582502165\n",
      "0.5102237117186036\n",
      "0.5021254168893392\n",
      "0.49416396635344867\n",
      "0.4863383548285634\n",
      "0.4786476761132655\n",
      "0.47109111928567077\n",
      "0.4636679641849748\n",
      "0.45637757620587055\n",
      "0.4492194004292692\n",
      "0.4421929551077836\n",
      "0.4352978245220953\n",
      "0.4285336512244906\n",
      "0.4219001276884595\n",
      "0.4153969873891624\n",
      "0.40902399534734263\n",
      "0.4027809381804762\n",
      "0.396667613717618\n",
      "0.39068382024930026\n",
      "0.3848293454999553\n",
      "0.37910395542674147\n",
      "0.37350738296469366\n",
      "0.36803931685330704\n",
      "0.3626993906921867\n",
      "0.3574871723832189\n",
      "0.3524021541220312\n",
      "0.3474437431029463\n",
      "0.3426112530968902\n",
      "0.337903897052325\n",
      "0.3333207808540056\n",
      "0.3288608983537681\n",
      "0.32452312776328585\n",
      "0.3203062294694958\n",
      "0.31620884530326454\n",
      "0.3122294992589174\n",
      "0.3083665996307583\n",
      "0.30461844250151376\n",
      "0.3009832164899706\n",
      "0.29745900864053554\n",
      "0.29404381131752055\n",
      "0.29073552995208335\n",
      "0.287531991480488\n",
      "0.2844309533075004\n",
      "0.2814301126299257\n",
      "0.2785271159604105\n",
      "0.2757195687003886\n",
      "0.27300504462404285\n",
      "0.270381095149159\n",
      "0.26784525828743067\n",
      "0.2653950671837891\n",
      "0.2630280581714412\n",
      "0.2607417782864436\n"
     ]
    }
   ],
   "source": [
    "\n",
    "costs,theta_final = gradientDescent(X,y,theta,iters,alpha)"
   ],
   "metadata": {
    "collapsed": false,
    "pycharm": {
     "name": "#%%\n"
    }
   }
  },
  {
   "cell_type": "code",
   "execution_count": 58,
   "outputs": [],
   "source": [
    "# 展示决策边界"
   ],
   "metadata": {
    "collapsed": false,
    "pycharm": {
     "name": "#%%\n"
    }
   }
  },
  {
   "cell_type": "code",
   "execution_count": 62,
   "outputs": [
    {
     "data": {
      "text/plain": "array([[-23.77367654],\n       [  0.18688257],\n       [  0.1804292 ]])"
     },
     "execution_count": 62,
     "metadata": {},
     "output_type": "execute_result"
    }
   ],
   "source": [
    "theta_final"
   ],
   "metadata": {
    "collapsed": false,
    "pycharm": {
     "name": "#%%\n"
    }
   }
  },
  {
   "cell_type": "code",
   "execution_count": 65,
   "outputs": [],
   "source": [
    "def predict(X,theta):\n",
    "    prob = sigmiod(X@theta)\n",
    "    return [1 if x >=0.5 else 0 for x in prob]"
   ],
   "metadata": {
    "collapsed": false,
    "pycharm": {
     "name": "#%%\n"
    }
   }
  },
  {
   "cell_type": "code",
   "execution_count": 71,
   "outputs": [
    {
     "name": "stdout",
     "output_type": "stream",
     "text": [
      "0.86\n"
     ]
    }
   ],
   "source": [
    "y_ = np.array(predict(X,theta_final))\n",
    "y_pre = y_.reshape(len(y_),1)\n",
    "\n",
    "acc = np.mean(y_pre==y)\n",
    "print(acc)"
   ],
   "metadata": {
    "collapsed": false,
    "pycharm": {
     "name": "#%%\n"
    }
   }
  },
  {
   "cell_type": "code",
   "execution_count": 72,
   "outputs": [],
   "source": [
    "coef1 = -theta_final[0,0]/theta_final[2,0]\n",
    "coef2 = -theta_final[1,0]/theta_final[2,0]"
   ],
   "metadata": {
    "collapsed": false,
    "pycharm": {
     "name": "#%%\n"
    }
   }
  },
  {
   "cell_type": "code",
   "execution_count": 75,
   "outputs": [
    {
     "data": {
      "text/plain": "<Figure size 432x288 with 1 Axes>",
      "image/png": "[encoded data removed]"
     },
     "metadata": {
      "needs_background": "light"
     },
     "output_type": "display_data"
    }
   ],
   "source": [
    "x = np.linspace(20,100,100)\n",
    "f = coef1 + coef2 * x\n",
    "\n",
    "fig,ax = plt.subplots()\n",
    "ax.scatter(data[data['Accepted']==0]['Exam1'],data[data['Accepted']==0]['Exam2'],c = 'r',marker = 'x',label = 'y=0')\n",
    "ax.scatter(data[data['Accepted']==1]['Exam1'],data[data['Accepted']==1]['Exam2'],c = 'b',marker = 'o',label = 'y=1')\n",
    "ax.legend()\n",
    "ax.set(xlabel='Exam1',ylabel='Exam2')\n",
    "\n",
    "ax.plot(x,f,c='g')\n",
    "plt.show()"
   ],
   "metadata": {
    "collapsed": false,
    "pycharm": {
     "name": "#%%\n"
    }
   }
  },
  {
   "cell_type": "code",
   "execution_count": null,
   "outputs": [],
   "source": [],
   "metadata": {
    "collapsed": false,
    "pycharm": {
     "name": "#%%\n"
    }
   }
  }
 ],
 "metadata": {
  "kernelspec": {
   "display_name": "Python 3",
   "language": "python",
   "name": "python3"
  },
  "language_info": {
   "codemirror_mode": {
    "name": "ipython",
    "version": 2
   },
   "file_extension": ".py",
   "mimetype": "text/x-python",
   "name": "python",
   "nbconvert_exporter": "python",
   "pygments_lexer": "ipython2",
   "version": "2.7.6"
  }
 },
 "nbformat": 4,
 "nbformat_minor": 0
}