{
 "cells": [
  {
   "cell_type": "code",
   "execution_count": 8,
   "metadata": {
    "collapsed": true
   },
   "outputs": [],
   "source": [
    "import numpy as np\n",
    "import pandas as pd\n",
    "import  matplotlib.pyplot as plt"
   ]
  },
  {
   "cell_type": "code",
   "execution_count": 9,
   "metadata": {
    "collapsed": false,
    "pycharm": {
     "name": "#%%\n"
    }
   },
   "outputs": [
    {
     "data": {
      "text/html": [
       "<div>\n",
       "<style scoped>\n",
       "    .dataframe tbody tr th:only-of-type {\n",
       "        vertical-align: middle;\n",
       "    }\n",
       "\n",
       "    .dataframe tbody tr th {\n",
       "        vertical-align: top;\n",
       "    }\n",
       "\n",
       "    .dataframe thead th {\n",
       "        text-align: right;\n",
       "    }\n",
       "</style>\n",
       "<table border=\"1\" class=\"dataframe\">\n",
       "  <thead>\n",
       "    <tr style=\"text-align: right;\">\n",
       "      <th></th>\n",
       "      <th>Test1</th>\n",
       "      <th>Test2</th>\n",
       "      <th>Accepted</th>\n",
       "    </tr>\n",
       "  </thead>\n",
       "  <tbody>\n",
       "    <tr>\n",
       "      <th>0</th>\n",
       "      <td>0.051267</td>\n",
       "      <td>0.69956</td>\n",
       "      <td>1</td>\n",
       "    </tr>\n",
       "    <tr>\n",
       "      <th>1</th>\n",
       "      <td>-0.092742</td>\n",
       "      <td>0.68494</td>\n",
       "      <td>1</td>\n",
       "    </tr>\n",
       "    <tr>\n",
       "      <th>2</th>\n",
       "      <td>-0.213710</td>\n",
       "      <td>0.69225</td>\n",
       "      <td>1</td>\n",
       "    </tr>\n",
       "    <tr>\n",
       "      <th>3</th>\n",
       "      <td>-0.375000</td>\n",
       "      <td>0.50219</td>\n",
       "      <td>1</td>\n",
       "    </tr>\n",
       "    <tr>\n",
       "      <th>4</th>\n",
       "      <td>-0.513250</td>\n",
       "      <td>0.46564</td>\n",
       "      <td>1</td>\n",
       "    </tr>\n",
       "  </tbody>\n",
       "</table>\n",
       "</div>"
      ],
      "text/plain": [
       "      Test1    Test2  Accepted\n",
       "0  0.051267  0.69956         1\n",
       "1 -0.092742  0.68494         1\n",
       "2 -0.213710  0.69225         1\n",
       "3 -0.375000  0.50219         1\n",
       "4 -0.513250  0.46564         1"
      ]
     },
     "execution_count": 9,
     "metadata": {},
     "output_type": "execute_result"
    }
   ],
   "source": [
    "path = 'ex2data2.txt'\n",
    "data = pd.read_csv(path,names=['Test1','Test2','Accepted'])\n",
    "data.head()"
   ]
  },
  {
   "cell_type": "code",
   "execution_count": 10,
   "metadata": {
    "collapsed": false,
    "pycharm": {
     "name": "#%%\n"
    }
   },
   "outputs": [
    {
     "data": {
      "image/png": "[encoded data removed]",
      "text/plain": [
       "<Figure size 432x288 with 1 Axes>"
      ]
     },
     "metadata": {
      "needs_background": "light"
     },
     "output_type": "display_data"
    }
   ],
   "source": [
    "fig,ax = plt.subplots()\n",
    "\n",
    "ax.scatter(data[data['Accepted']==0]['Test1'],data[data['Accepted']==0]['Test2'],c = 'r',marker = 'x',label = 'y=0')\n",
    "ax.scatter(data[data['Accepted']==1]['Test1'],data[data['Accepted']==1]['Test2'],c = 'b',marker = 'o',label = 'y=1')\n",
    "ax.legend()\n",
    "ax.set(xlabel='Exam1',ylabel='Exam2')\n",
    "plt.show()"
   ]
  },
  {
   "cell_type": "code",
   "execution_count": 11,
   "metadata": {
    "collapsed": false,
    "pycharm": {
     "name": "#%%\n"
    }
   },
   "outputs": [],
   "source": [
    "# 特征映射"
   ]
  },
  {
   "cell_type": "code",
   "execution_count": 12,
   "metadata": {
    "collapsed": false,
    "pycharm": {
     "name": "#%%\n"
    }
   },
   "outputs": [],
   "source": [
    "def feature_mapping(x1,x2,power):\n",
    "    data = {}\n",
    "    for i in np.arange(power+1):\n",
    "        for j in np.arange(i+1):\n",
    "            data['F{}{}'.format(i-j,j)] = np.power(x1,i-j)*np.power(x2,j)\n",
    "    return pd.DataFrame(data)"
   ]
  },
  {
   "cell_type": "code",
   "execution_count": 13,
   "metadata": {
    "collapsed": false,
    "pycharm": {
     "name": "#%%\n"
    }
   },
   "outputs": [],
   "source": [
    "x1 = data['Test1']\n",
    "x2 = data['Test2']"
   ]
  },
  {
   "cell_type": "code",
   "execution_count": 14,
   "metadata": {
    "collapsed": false,
    "pycharm": {
     "name": "#%%\n"
    }
   },
   "outputs": [
    {
     "data": {
      "text/html": [
       "<div>\n",
       "<style scoped>\n",
       "    .dataframe tbody tr th:only-of-type {\n",
       "        vertical-align: middle;\n",
       "    }\n",
       "\n",
       "    .dataframe tbody tr th {\n",
       "        vertical-align: top;\n",
       "    }\n",
       "\n",
       "    .dataframe thead th {\n",
       "        text-align: right;\n",
       "    }\n",
       "</style>\n",
       "<table border=\"1\" class=\"dataframe\">\n",
       "  <thead>\n",
       "    <tr style=\"text-align: right;\">\n",
       "      <th></th>\n",
       "      <th>F00</th>\n",
       "      <th>F10</th>\n",
       "      <th>F01</th>\n",
       "      <th>F20</th>\n",
       "      <th>F11</th>\n",
       "      <th>F02</th>\n",
       "      <th>F30</th>\n",
       "      <th>F21</th>\n",
       "      <th>F12</th>\n",
       "      <th>F03</th>\n",
       "      <th>...</th>\n",
       "      <th>F23</th>\n",
       "      <th>F14</th>\n",
       "      <th>F05</th>\n",
       "      <th>F60</th>\n",
       "      <th>F51</th>\n",
       "      <th>F42</th>\n",
       "      <th>F33</th>\n",
       "      <th>F24</th>\n",
       "      <th>F15</th>\n",
       "      <th>F06</th>\n",
       "    </tr>\n",
       "  </thead>\n",
       "  <tbody>\n",
       "    <tr>\n",
       "      <th>0</th>\n",
       "      <td>1.0</td>\n",
       "      <td>0.051267</td>\n",
       "      <td>0.69956</td>\n",
       "      <td>0.002628</td>\n",
       "      <td>0.035864</td>\n",
       "      <td>0.489384</td>\n",
       "      <td>0.000135</td>\n",
       "      <td>0.001839</td>\n",
       "      <td>0.025089</td>\n",
       "      <td>0.342354</td>\n",
       "      <td>...</td>\n",
       "      <td>0.000900</td>\n",
       "      <td>0.012278</td>\n",
       "      <td>0.167542</td>\n",
       "      <td>1.815630e-08</td>\n",
       "      <td>2.477505e-07</td>\n",
       "      <td>0.000003</td>\n",
       "      <td>0.000046</td>\n",
       "      <td>0.000629</td>\n",
       "      <td>0.008589</td>\n",
       "      <td>0.117206</td>\n",
       "    </tr>\n",
       "    <tr>\n",
       "      <th>1</th>\n",
       "      <td>1.0</td>\n",
       "      <td>-0.092742</td>\n",
       "      <td>0.68494</td>\n",
       "      <td>0.008601</td>\n",
       "      <td>-0.063523</td>\n",
       "      <td>0.469143</td>\n",
       "      <td>-0.000798</td>\n",
       "      <td>0.005891</td>\n",
       "      <td>-0.043509</td>\n",
       "      <td>0.321335</td>\n",
       "      <td>...</td>\n",
       "      <td>0.002764</td>\n",
       "      <td>-0.020412</td>\n",
       "      <td>0.150752</td>\n",
       "      <td>6.362953e-07</td>\n",
       "      <td>-4.699318e-06</td>\n",
       "      <td>0.000035</td>\n",
       "      <td>-0.000256</td>\n",
       "      <td>0.001893</td>\n",
       "      <td>-0.013981</td>\n",
       "      <td>0.103256</td>\n",
       "    </tr>\n",
       "    <tr>\n",
       "      <th>2</th>\n",
       "      <td>1.0</td>\n",
       "      <td>-0.213710</td>\n",
       "      <td>0.69225</td>\n",
       "      <td>0.045672</td>\n",
       "      <td>-0.147941</td>\n",
       "      <td>0.479210</td>\n",
       "      <td>-0.009761</td>\n",
       "      <td>0.031616</td>\n",
       "      <td>-0.102412</td>\n",
       "      <td>0.331733</td>\n",
       "      <td>...</td>\n",
       "      <td>0.015151</td>\n",
       "      <td>-0.049077</td>\n",
       "      <td>0.158970</td>\n",
       "      <td>9.526844e-05</td>\n",
       "      <td>-3.085938e-04</td>\n",
       "      <td>0.001000</td>\n",
       "      <td>-0.003238</td>\n",
       "      <td>0.010488</td>\n",
       "      <td>-0.033973</td>\n",
       "      <td>0.110047</td>\n",
       "    </tr>\n",
       "    <tr>\n",
       "      <th>3</th>\n",
       "      <td>1.0</td>\n",
       "      <td>-0.375000</td>\n",
       "      <td>0.50219</td>\n",
       "      <td>0.140625</td>\n",
       "      <td>-0.188321</td>\n",
       "      <td>0.252195</td>\n",
       "      <td>-0.052734</td>\n",
       "      <td>0.070620</td>\n",
       "      <td>-0.094573</td>\n",
       "      <td>0.126650</td>\n",
       "      <td>...</td>\n",
       "      <td>0.017810</td>\n",
       "      <td>-0.023851</td>\n",
       "      <td>0.031940</td>\n",
       "      <td>2.780914e-03</td>\n",
       "      <td>-3.724126e-03</td>\n",
       "      <td>0.004987</td>\n",
       "      <td>-0.006679</td>\n",
       "      <td>0.008944</td>\n",
       "      <td>-0.011978</td>\n",
       "      <td>0.016040</td>\n",
       "    </tr>\n",
       "    <tr>\n",
       "      <th>4</th>\n",
       "      <td>1.0</td>\n",
       "      <td>-0.513250</td>\n",
       "      <td>0.46564</td>\n",
       "      <td>0.263426</td>\n",
       "      <td>-0.238990</td>\n",
       "      <td>0.216821</td>\n",
       "      <td>-0.135203</td>\n",
       "      <td>0.122661</td>\n",
       "      <td>-0.111283</td>\n",
       "      <td>0.100960</td>\n",
       "      <td>...</td>\n",
       "      <td>0.026596</td>\n",
       "      <td>-0.024128</td>\n",
       "      <td>0.021890</td>\n",
       "      <td>1.827990e-02</td>\n",
       "      <td>-1.658422e-02</td>\n",
       "      <td>0.015046</td>\n",
       "      <td>-0.013650</td>\n",
       "      <td>0.012384</td>\n",
       "      <td>-0.011235</td>\n",
       "      <td>0.010193</td>\n",
       "    </tr>\n",
       "  </tbody>\n",
       "</table>\n",
       "<p>5 rows × 28 columns</p>\n",
       "</div>"
      ],
      "text/plain": [
       "   F00       F10      F01       F20       F11       F02       F30       F21  \\\n",
       "0  1.0  0.051267  0.69956  0.002628  0.035864  0.489384  0.000135  0.001839   \n",
       "1  1.0 -0.092742  0.68494  0.008601 -0.063523  0.469143 -0.000798  0.005891   \n",
       "2  1.0 -0.213710  0.69225  0.045672 -0.147941  0.479210 -0.009761  0.031616   \n",
       "3  1.0 -0.375000  0.50219  0.140625 -0.188321  0.252195 -0.052734  0.070620   \n",
       "4  1.0 -0.513250  0.46564  0.263426 -0.238990  0.216821 -0.135203  0.122661   \n",
       "\n",
       "        F12       F03  ...       F23       F14       F05           F60  \\\n",
       "0  0.025089  0.342354  ...  0.000900  0.012278  0.167542  1.815630e-08   \n",
       "1 -0.043509  0.321335  ...  0.002764 -0.020412  0.150752  6.362953e-07   \n",
       "2 -0.102412  0.331733  ...  0.015151 -0.049077  0.158970  9.526844e-05   \n",
       "3 -0.094573  0.126650  ...  0.017810 -0.023851  0.031940  2.780914e-03   \n",
       "4 -0.111283  0.100960  ...  0.026596 -0.024128  0.021890  1.827990e-02   \n",
       "\n",
       "            F51       F42       F33       F24       F15       F06  \n",
       "0  2.477505e-07  0.000003  0.000046  0.000629  0.008589  0.117206  \n",
       "1 -4.699318e-06  0.000035 -0.000256  0.001893 -0.013981  0.103256  \n",
       "2 -3.085938e-04  0.001000 -0.003238  0.010488 -0.033973  0.110047  \n",
       "3 -3.724126e-03  0.004987 -0.006679  0.008944 -0.011978  0.016040  \n",
       "4 -1.658422e-02  0.015046 -0.013650  0.012384 -0.011235  0.010193  \n",
       "\n",
       "[5 rows x 28 columns]"
      ]
     },
     "execution_count": 14,
     "metadata": {},
     "output_type": "execute_result"
    }
   ],
   "source": [
    "data2 = feature_mapping(x1,x2,6)\n",
    "data2.head()"
   ]
  },
  {
   "cell_type": "code",
   "execution_count": 15,
   "metadata": {
    "collapsed": false,
    "pycharm": {
     "name": "#%%\n"
    }
   },
   "outputs": [
    {
     "data": {
      "text/plain": [
       "(118, 28)"
      ]
     },
     "execution_count": 15,
     "metadata": {},
     "output_type": "execute_result"
    }
   ],
   "source": [
    "X = data2.values\n",
    "X.shape"
   ]
  },
  {
   "cell_type": "code",
   "execution_count": 16,
   "metadata": {
    "collapsed": false,
    "pycharm": {
     "name": "#%%\n"
    }
   },
   "outputs": [
    {
     "data": {
      "text/plain": [
       "(118, 1)"
      ]
     },
     "execution_count": 16,
     "metadata": {},
     "output_type": "execute_result"
    }
   ],
   "source": [
    "y = data.iloc[:,-1].values\n",
    "y = y.reshape(len(y),1)\n",
    "y.shape"
   ]
  },
  {
   "cell_type": "code",
   "execution_count": 17,
   "metadata": {
    "collapsed": false,
    "pycharm": {
     "name": "#%%\n"
    }
   },
   "outputs": [],
   "source": [
    "def sigmiod(z):\n",
    "    return 1/(1+np.exp(-z))"
   ]
  },
  {
   "cell_type": "code",
   "execution_count": 18,
   "metadata": {
    "collapsed": false,
    "pycharm": {
     "name": "#%%\n"
    }
   },
   "outputs": [],
   "source": [
    "def costFunction(X,y,theta,lamda):\n",
    "    A = sigmiod(X@theta)\n",
    "    first = y*np.log(A)\n",
    "    second = (1-y)*np.log(1-A)\n",
    "    reg = np.sum(np.power(theta[1:],2))*(lamda/(2*len(X)))\n",
    "    return -np.sum(first + second)/len(X)+reg"
   ]
  },
  {
   "cell_type": "code",
   "execution_count": 19,
   "metadata": {
    "collapsed": false,
    "pycharm": {
     "name": "#%%\n"
    }
   },
   "outputs": [
    {
     "data": {
      "text/plain": [
       "(28, 1)"
      ]
     },
     "execution_count": 19,
     "metadata": {},
     "output_type": "execute_result"
    }
   ],
   "source": [
    "theta = np.zeros((28,1))\n",
    "theta.shape"
   ]
  },
  {
   "cell_type": "code",
   "execution_count": 20,
   "metadata": {
    "collapsed": false,
    "pycharm": {
     "name": "#%%\n"
    }
   },
   "outputs": [],
   "source": [
    "lamda = 1"
   ]
  },
  {
   "cell_type": "code",
   "execution_count": 21,
   "metadata": {
    "collapsed": false,
    "pycharm": {
     "name": "#%%\n"
    }
   },
   "outputs": [
    {
     "data": {
      "text/plain": [
       "0.6931471805599454"
      ]
     },
     "execution_count": 21,
     "metadata": {},
     "output_type": "execute_result"
    }
   ],
   "source": [
    "cost_init = costFunction(X,y,theta,lamda)\n",
    "cost_init"
   ]
  },
  {
   "cell_type": "code",
   "execution_count": 22,
   "metadata": {
    "collapsed": false,
    "pycharm": {
     "name": "#%%\n"
    }
   },
   "outputs": [],
   "source": [
    "# 梯度下降函数"
   ]
  },
  {
   "cell_type": "code",
   "execution_count": 23,
   "metadata": {
    "collapsed": false,
    "pycharm": {
     "name": "#%%\n"
    }
   },
   "outputs": [],
   "source": [
    "def gradientDescent(X,y,theta,alpha,iters,lamda):\n",
    "    costs = []\n",
    "\n",
    "    for i in range(iters):\n",
    "\n",
    "        reg = theta[1:]*int(lamda/len(X))\n",
    "        reg = np.insert(reg,0,values=0,axis=0)\n",
    "\n",
    "        theta = theta-(X.T@(sigmiod(X@theta)-y))*alpha/len(X)-reg\n",
    "        cost = costFunction(X,y,theta,lamda)\n",
    "        costs.append(cost)\n",
    "        if i% 1000 ==0:\n",
    "            print(cost)\n",
    "    return theta,costs"
   ]
  },
  {
   "cell_type": "code",
   "execution_count": 24,
   "metadata": {
    "collapsed": false,
    "pycharm": {
     "name": "#%%\n"
    }
   },
   "outputs": [],
   "source": [
    "alpha = 0.001\n",
    "iters = 200000\n",
    "lamda = 0.001"
   ]
  },
  {
   "cell_type": "code",
   "execution_count": 25,
   "metadata": {
    "collapsed": false,
    "pycharm": {
     "name": "#%%\n"
    }
   },
   "outputs": [
    {
     "name": "stdout",
     "output_type": "stream",
     "text": [
      "0.693134380798985\n",
      "0.6818207285255232\n",
      "0.6725973013714084\n",
      "0.6646383221404809\n",
      "0.6575088694640914\n",
      "0.6509711449470786\n",
      "0.6448875416867819\n",
      "0.63917254885035\n",
      "0.633768777890895\n",
      "0.6286348413909699\n",
      "0.623739075192849\n",
      "0.6190561680621085\n",
      "0.6145652605143096\n",
      "0.6102488035017372\n",
      "0.6060918236610817\n",
      "0.6020814165194072\n",
      "0.5982063753704954\n",
      "0.5944569065877984\n",
      "0.5908244039129069\n",
      "0.5873012654955786\n",
      "0.5838807434377024\n",
      "0.5805568189099329\n",
      "0.577324097855552\n",
      "0.5741777235156346\n",
      "0.5711133028282062\n",
      "0.5681268443390893\n",
      "0.565214705701808\n",
      "0.5623735491867022\n",
      "0.5596003038933238\n",
      "0.5568921335825465\n",
      "0.554246409227113\n",
      "0.5516606855296436\n",
      "0.5491326807815378\n",
      "0.5466602595393818\n",
      "0.5442414176812131\n",
      "0.5418742694762815\n",
      "0.5395570363613225\n",
      "0.5372880371658005\n",
      "0.5350656795698475\n",
      "0.5328884526130221\n",
      "0.5307549201007973\n",
      "0.5286637147797095\n",
      "0.5266135331722317\n",
      "0.5246031309792901\n",
      "0.5226313189724726\n",
      "0.5206969593098428\n",
      "0.518798962219241\n",
      "0.5169362830013358\n",
      "0.515107919311749\n",
      "0.5133129086875281\n",
      "0.5115503262882626\n",
      "0.5098192828263828\n",
      "0.50811892266477\n",
      "0.5064484220628525\n",
      "0.5048069875549286\n",
      "0.5031938544466688\n",
      "0.5016082854175941\n",
      "0.5000495692189275\n",
      "0.4985170194575684\n",
      "0.4970099734580947\n",
      "0.49552779119569473\n",
      "0.4940698542937806\n",
      "0.49263556508076417\n",
      "0.4912243457011116\n",
      "0.48983563727633517\n",
      "0.4884688991120502\n",
      "0.4871236079476379\n",
      "0.48579925724540773\n",
      "0.48449535651646125\n",
      "0.48321143068073863\n",
      "0.4819470194589525\n",
      "0.48070167679433956\n",
      "0.47947497030232955\n",
      "0.47826648074640465\n",
      "0.4770758015385627\n",
      "0.47590253826292406\n",
      "0.4747463082211446\n",
      "0.47360673999839\n",
      "0.472483473048726\n",
      "0.4713761572988631\n",
      "0.470284452769261\n",
      "0.4692080292116783\n",
      "0.4681465657623035\n",
      "0.4670997506096682\n",
      "0.4660672806765882\n",
      "0.4650488613154332\n",
      "0.46404420601606083\n",
      "0.4630530361257954\n",
      "0.4620750805808688\n",
      "0.46111007564877365\n",
      "0.4601577646810085\n",
      "0.45921789787572936\n",
      "0.45829023204984404\n",
      "0.4573745304201115\n",
      "0.45647056239283695\n",
      "0.45557810336176896\n",
      "0.45469693451382925\n",
      "0.4538268426423259\n",
      "0.4529676199673154\n",
      "0.4521190639627979\n",
      "0.4512809771904487\n",
      "0.45045316713959715\n",
      "0.44963544607318645\n",
      "0.44882763087945476\n",
      "0.44802954292909397\n",
      "0.44724100793765353\n",
      "0.44646185583296777\n",
      "0.4456919206273947\n",
      "0.44493104029466873\n",
      "0.44417905665117074\n",
      "0.44343581524143977\n",
      "0.4427011652277436\n",
      "0.44197495928355324\n",
      "0.4412570534907528\n",
      "0.4405473072404397\n",
      "0.4398455831371708\n",
      "0.439151746906514\n",
      "0.4384656673057761\n",
      "0.43778721603778026\n",
      "0.43711626766757555\n",
      "0.4364526995419595\n",
      "0.43579639171170753\n",
      "0.43514722685640467\n",
      "0.43450509021177547\n",
      "0.4338698694994212\n",
      "0.433241454858869\n",
      "0.43261973878184684\n",
      "0.432004616048699\n",
      "0.4313959836668635\n",
      "0.4307937408113316\n",
      "0.4301977887670181\n",
      "0.4296080308729706\n",
      "0.4290243724683498\n",
      "0.42844672084011537\n",
      "0.4278749851723571\n",
      "0.4273090764972088\n",
      "0.4267489076472897\n",
      "0.4261943932096178\n",
      "0.4256454494809423\n",
      "0.4251019944244444\n",
      "0.42456394762775773\n",
      "0.4240312302622629\n",
      "0.4235037650436105\n",
      "0.42298147619342863\n",
      "0.4224642894021762\n",
      "0.4219521317930995\n",
      "0.4214449318872559\n",
      "0.42094261956956824\n",
      "0.4204451260558711\n",
      "0.41995238386092115\n",
      "0.4194643267673339\n",
      "0.418980889795417\n",
      "0.41850200917387165\n",
      "0.4180276223113312\n",
      "0.4175576677687092\n",
      "0.4170920852323313\n",
      "0.41663081548782477\n",
      "0.41617380039473884\n",
      "0.41572098286187575\n",
      "0.41527230682330546\n",
      "0.4148277172150451\n",
      "0.41438715995237857\n",
      "0.4139505819077992\n",
      "0.4135179308895532\n",
      "0.41308915562076437\n",
      "0.4126642057191254\n",
      "0.4122430316771314\n",
      "0.4118255848428458\n",
      "0.41141181740117744\n",
      "0.41100168235565354\n",
      "0.4105951335106734\n",
      "0.4101921254542309\n",
      "0.4097926135410866\n",
      "0.4093965538763777\n",
      "0.4090039032996546\n",
      "0.408614619369328\n",
      "0.40822866034751565\n",
      "0.4078459851852768\n",
      "0.40746655350822264\n",
      "0.4070903256024905\n",
      "0.40671726240107314\n",
      "0.40634732547049013\n",
      "0.40598047699779416\n",
      "0.4056166797778986\n",
      "0.40525589720122074\n",
      "0.40489809324162956\n",
      "0.40454323244469054\n",
      "0.40419127991619447\n",
      "0.40384220131097176\n",
      "0.4034959628219712\n",
      "0.40315253116960775\n",
      "0.40281187359136367\n",
      "0.40247395783163936\n",
      "0.40213875213184613\n",
      "0.401806225220734\n",
      "0.40147634630494783\n",
      "0.4011490850598067\n",
      "0.40082441162029836\n",
      "0.4005022965722838\n",
      "0.400182710943907\n"
     ]
    }
   ],
   "source": [
    "theta_final,costs = gradientDescent(X,y,theta,alpha,iters,lamda)"
   ]
  },
  {
   "cell_type": "code",
   "execution_count": 26,
   "metadata": {
    "collapsed": false,
    "pycharm": {
     "name": "#%%\n"
    }
   },
   "outputs": [],
   "source": [
    "def predict(X,theta):\n",
    "    prob = sigmiod(X@theta)\n",
    "    return [1 if x >=0.5 else 0 for x in prob]"
   ]
  },
  {
   "cell_type": "code",
   "execution_count": 27,
   "metadata": {
    "collapsed": false,
    "pycharm": {
     "name": "#%%\n"
    }
   },
   "outputs": [
    {
     "name": "stdout",
     "output_type": "stream",
     "text": [
      "0.8135593220338984\n"
     ]
    }
   ],
   "source": [
    "y_ = np.array(predict(X,theta_final))\n",
    "y_pre = y_.reshape(len(y_),1)\n",
    "\n",
    "acc = np.mean(y_pre==y)\n",
    "print(acc)"
   ]
  },
  {
   "cell_type": "code",
   "execution_count": 34,
   "metadata": {
    "collapsed": false,
    "pycharm": {
     "name": "#%%\n"
    }
   },
   "outputs": [
    {
     "name": "stdout",
     "output_type": "stream",
     "text": [
      "(40000, 28)\n",
      "(40000, 1)\n",
      "(200, 200)\n"
     ]
    },
    {
     "data": {
      "image/png": "[encoded data removed]",
      "text/plain": [
       "<Figure size 432x288 with 1 Axes>"
      ]
     },
     "metadata": {
      "needs_background": "light"
     },
     "output_type": "display_data"
    }
   ],
   "source": [
    "x = np.linspace(-1.2,1.2,200)\n",
    "xx,yy= np.meshgrid(x,x)\n",
    "z = feature_mapping(xx.ravel(),yy.ravel(),6).values\n",
    "print(z.shape)\n",
    "zz = z@theta_final\n",
    "print(zz.shape)\n",
    "zz = zz.reshape(xx.shape)\n",
    "print(zz.shape)\n",
    "fig,ax = plt.subplots()\n",
    "\n",
    "ax.scatter(data[data['Accepted']==0]['Test1'],data[data['Accepted']==0]['Test2'],c = 'r',marker = 'x',label = 'y=0')\n",
    "ax.scatter(data[data['Accepted']==1]['Test1'],data[data['Accepted']==1]['Test2'],c = 'b',marker = 'o',label = 'y=1')\n",
    "ax.legend()\n",
    "ax.set(xlabel='Exam1',ylabel='Exam2')\n",
    "\n",
    "plt.contour(xx,yy,zz,0)\n",
    "plt.show()"
   ]
  },
  {
   "cell_type": "code",
   "execution_count": null,
   "metadata": {
    "collapsed": false,
    "pycharm": {
     "name": "#%%\n"
    }
   },
   "outputs": [],
   "source": []
  },
  {
   "cell_type": "code",
   "execution_count": null,
   "metadata": {
    "collapsed": false,
    "pycharm": {
     "name": "#%%\n"
    }
   },
   "outputs": [],
   "source": []
  },
  {
   "cell_type": "code",
   "execution_count": null,
   "metadata": {
    "collapsed": false,
    "pycharm": {
     "name": "#%%\n"
    }
   },
   "outputs": [],
   "source": []
  }
 ],
 "metadata": {
  "kernelspec": {
   "display_name": "Python 3",
   "language": "python",
   "name": "python3"
  },
  "language_info": {
   "codemirror_mode": {
    "name": "ipython",
    "version": 3
   },
   "file_extension": ".py",
   "mimetype": "text/x-python",
   "name": "python",
   "nbconvert_exporter": "python",
   "pygments_lexer": "ipython3",
   "version": "3.8.12"
  }
 },
 "nbformat": 4,
 "nbformat_minor": 0
}
