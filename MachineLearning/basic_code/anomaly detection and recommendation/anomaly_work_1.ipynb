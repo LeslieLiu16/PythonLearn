{
 "cells": [
  {
   "cell_type": "code",
   "execution_count": 1,
   "metadata": {},
   "outputs": [],
   "source": [
    "import numpy as np\n",
    "import scipy.io as sio \n",
    "import matplotlib.pyplot as plt"
   ]
  },
  {
   "cell_type": "code",
   "execution_count": 2,
   "metadata": {},
   "outputs": [
    {
     "data": {
      "text/plain": [
       "dict_keys(['__header__', '__version__', '__globals__', 'X', 'Xval', 'yval'])"
      ]
     },
     "execution_count": 2,
     "metadata": {},
     "output_type": "execute_result"
    }
   ],
   "source": [
    "mat  = sio.loadmat('./data/ex8data1.mat')\n",
    "mat.keys()"
   ]
  },
  {
   "cell_type": "code",
   "execution_count": 3,
   "metadata": {},
   "outputs": [
    {
     "data": {
      "text/plain": [
       "((307, 2), (307, 2), (307, 1))"
      ]
     },
     "execution_count": 3,
     "metadata": {},
     "output_type": "execute_result"
    }
   ],
   "source": [
    "X= mat['X']\n",
    "Xval,yval = mat['Xval'],mat['yval']\n",
    "X.shape,Xval.shape,yval.shape"
   ]
  },
  {
   "cell_type": "code",
   "execution_count": 4,
   "metadata": {},
   "outputs": [
    {
     "data": {
      "image/png": "[encoded data removed]",
      "text/plain": [
       "<Figure size 432x288 with 1 Axes>"
      ]
     },
     "metadata": {
      "needs_background": "light"
     },
     "output_type": "display_data"
    }
   ],
   "source": [
    "plt.plot(X[:,0],X[:,1],'bx')\n",
    "plt.show()"
   ]
  },
  {
   "cell_type": "code",
   "execution_count": 5,
   "metadata": {},
   "outputs": [],
   "source": [
    "def estimateGaussian(X,isCovariance):\n",
    "    means = np.mean(X,axis=0)\n",
    "    if isCovariance:\n",
    "        sigma2 = (X - means).T@(X-means)/len(X)\n",
    "    else:\n",
    "        sigma2 = np.var(X,axis = 0)\n",
    "    return means,sigma2"
   ]
  },
  {
   "cell_type": "code",
   "execution_count": 6,
   "metadata": {},
   "outputs": [
    {
     "data": {
      "text/plain": [
       "array([[ 1.83263141, -0.22712233],\n",
       "       [-0.22712233,  1.70974533]])"
      ]
     },
     "execution_count": 6,
     "metadata": {},
     "output_type": "execute_result"
    }
   ],
   "source": [
    "means,sigma2 = estimateGaussian(X,isCovariance = True)\n",
    "sigma2"
   ]
  },
  {
   "cell_type": "code",
   "execution_count": 7,
   "metadata": {},
   "outputs": [
    {
     "data": {
      "text/plain": [
       "array([1.83263141, 1.70974533])"
      ]
     },
     "execution_count": 7,
     "metadata": {},
     "output_type": "execute_result"
    }
   ],
   "source": [
    "means,sigma2 = estimateGaussian(X,isCovariance=False)\n",
    "sigma2"
   ]
  },
  {
   "cell_type": "code",
   "execution_count": 8,
   "metadata": {},
   "outputs": [],
   "source": [
    "def gaussian(X,means,sigma2):\n",
    "    if np.ndim(sigma2)==1:\n",
    "        sigma2 = np.diag(sigma2)\n",
    "    \n",
    "    X = X-means\n",
    "    n = X.shape[0]\n",
    "\n",
    "    first = np.power(2*np.pl,-n/2)*(np.linalg.det(sigma2)**(-0.5))\n",
    "    second = np.diag(X@np.linalg.inv(sigma2)@x.T)\n",
    "    p = first * np.exp(-0.5*second)\n",
    "    p = p .reshape(-1,1)\n",
    "\n",
    "    return p\n"
   ]
  },
  {
   "cell_type": "code",
   "execution_count": null,
   "metadata": {},
   "outputs": [],
   "source": [
    "def plotGaussian(X,means,sigma2):\n",
    "    "
   ]
  }
 ],
 "metadata": {
  "interpreter": {
   "hash": "ef86db225ef4b57818c73f0fa884905e1074d5e48664afc905169539875171e1"
  },
  "kernelspec": {
   "display_name": "Python 3.8.12 64-bit ('Data_Analysis': conda)",
   "language": "python",
   "name": "python3"
  },
  "language_info": {
   "codemirror_mode": {
    "name": "ipython",
    "version": 3
   },
   "file_extension": ".py",
   "mimetype": "text/x-python",
   "name": "python",
   "nbconvert_exporter": "python",
   "pygments_lexer": "ipython3",
   "version": "3.8.12"
  },
  "orig_nbformat": 4
 },
 "nbformat": 4,
 "nbformat_minor": 2
}
